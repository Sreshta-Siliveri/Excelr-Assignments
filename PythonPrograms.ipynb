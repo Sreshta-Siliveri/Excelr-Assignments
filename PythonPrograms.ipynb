{
 "cells": [
  {
   "cell_type": "markdown",
   "metadata": {},
   "source": [
    "Write a program to declare variables of different data types (integer, float, string, and boolean). Print each variable and its type."
   ]
  },
  {
   "cell_type": "code",
   "execution_count": 3,
   "metadata": {},
   "outputs": [
    {
     "name": "stdout",
     "output_type": "stream",
     "text": [
      "Integer variable: 42 Type: <class 'int'>\n",
      "Float variable: 3.14 Type: <class 'float'>\n",
      "String variable: Hello, World! Type: <class 'str'>\n",
      "Boolean variable: True Type: <class 'bool'>\n"
     ]
    }
   ],
   "source": [
    "# Declaring variables of different data types\n",
    "integer_var = 42\n",
    "float_var = 3.14\n",
    "string_var = \"Hello, World!\"\n",
    "boolean_var = True\n",
    "\n",
    "# Printing each variable and its type\n",
    "print(\"Integer variable:\", integer_var, \"Type:\", type(integer_var))\n",
    "print(\"Float variable:\", float_var, \"Type:\", type(float_var))\n",
    "print(\"String variable:\", string_var, \"Type:\", type(string_var))\n",
    "print(\"Boolean variable:\", boolean_var, \"Type:\", type(boolean_var))"
   ]
  },
  {
   "cell_type": "markdown",
   "metadata": {},
   "source": [
    "Create a List, tuple and Dictionary with 5 elements in it and how to access few elements based on the index. Try  with different examples "
   ]
  },
  {
   "cell_type": "code",
   "execution_count": 4,
   "metadata": {},
   "outputs": [
    {
     "name": "stdout",
     "output_type": "stream",
     "text": [
      "List:\n",
      "First element: 10\n",
      "Third element: 30\n",
      "Last element: 50\n",
      "Second to last element: 40\n",
      "Elements from index 1 to 3: [20, 30, 40]\n",
      "Elements from index 0 to 2 : [10, 20, 30]\n",
      "Elements from index 2 to the end : [30, 40, 50]\n",
      "\n",
      "Tuple:\n",
      "First element: 1\n",
      "Third element: 3\n",
      "\n",
      "Dictionary:\n",
      "Value associated with key 'a': 1\n",
      "Value associated with key 'c': 3\n",
      "Value associated with key 'f' (or None if missing): None\n"
     ]
    }
   ],
   "source": [
    "# prompt: Create a List, tuple and Dictionary with 5 elements in it and how to access few elements based on the index. Try  with different examples \n",
    "\n",
    "# Creating a list with 5 elements\n",
    "my_list = [10, 20, 30, 40, 50]\n",
    "\n",
    "# Accessing elements by index\n",
    "print(\"List:\")\n",
    "print(\"First element:\", my_list[0])  # Accessing the first element (index 0)\n",
    "print(\"Third element:\", my_list[2])  # Accessing the third element (index 2)\n",
    "print(\"Last element:\", my_list[-1]) # Accessing the last element using negative indexing\n",
    "print(\"Second to last element:\", my_list[-2]) # Accessing the second to last element\n",
    "\n",
    "# Slicing a list\n",
    "print(\"Elements from index 1 to 3:\", my_list[1:4])  # Elements at index 1, 2, and 3\n",
    "print(\"Elements from index 0 to 2 :\", my_list[:3]) # Elements at index 0, 1 and 2\n",
    "print(\"Elements from index 2 to the end :\", my_list[2:]) # Elements at index 2, 3 and 4\n",
    "\n",
    "\n",
    "# Creating a tuple with 5 elements\n",
    "my_tuple = (1, 2, 3, 4, 5)\n",
    "\n",
    "# Accessing elements by index (same as list)\n",
    "print(\"\\nTuple:\")\n",
    "print(\"First element:\", my_tuple[0])\n",
    "print(\"Third element:\", my_tuple[2])\n",
    "\n",
    "# Creating a dictionary with 5 elements\n",
    "my_dict = {\"a\": 1, \"b\": 2, \"c\": 3, \"d\": 4, \"e\": 5}\n",
    "\n",
    "# Accessing elements by key\n",
    "print(\"\\nDictionary:\")\n",
    "print(\"Value associated with key 'a':\", my_dict[\"a\"])\n",
    "print(\"Value associated with key 'c':\", my_dict[\"c\"])\n",
    "\n",
    "# Accessing elements with the get() method (safer, handles missing keys)\n",
    "print(\"Value associated with key 'f' (or None if missing):\", my_dict.get(\"f\")) # Returns None since key 'f' is not present\n"
   ]
  },
  {
   "cell_type": "markdown",
   "metadata": {},
   "source": [
    "Write a Python program that takes a student's marks in three subjects as input.\n",
    "If the average is greater than or equal to 90, print \"Grade: A\".\n",
    "If the average is between 80 and 89, print \"Grade: B\".\n",
    "If the average is between 70 and 79, print \"Grade: C\".\n",
    "Otherwise, print \"Grade: Fail\"."
   ]
  },
  {
   "cell_type": "code",
   "execution_count": 5,
   "metadata": {},
   "outputs": [
    {
     "name": "stdout",
     "output_type": "stream",
     "text": [
      "Grade: A\n"
     ]
    }
   ],
   "source": [
    "# prompt: Write a Python program that takes a student's marks in three subjects as input.\n",
    "# If the average is greater than or equal to 90, print \"Grade: A\".\n",
    "# If the average is between 80 and 89, print \"Grade: B\".\n",
    "# If the average is between 70 and 79, print \"Grade: C\".\n",
    "# Otherwise, print \"Grade: Fail\".\n",
    "\n",
    "# Get marks for three subjects as input\n",
    "try:\n",
    "  subject1 = float(input(\"Enter marks for subject 1: \"))\n",
    "  subject2 = float(input(\"Enter marks for subject 2: \"))\n",
    "  subject3 = float(input(\"Enter marks for subject 3: \"))\n",
    "except ValueError:\n",
    "  print(\"Invalid input. Please enter numeric values for marks.\")\n",
    "else:\n",
    "  # Calculate the average\n",
    "  average_marks = (subject1 + subject2 + subject3) / 3\n",
    "\n",
    "  # Determine the grade based on the average\n",
    "  if average_marks >= 90:\n",
    "    print(\"Grade: A\")\n",
    "  elif 80 <= average_marks <= 89:\n",
    "    print(\"Grade: B\")\n",
    "  elif 70 <= average_marks <= 79:\n",
    "    print(\"Grade: C\")\n",
    "  else:\n",
    "    print(\"Grade: Fail\")"
   ]
  },
  {
   "cell_type": "markdown",
   "metadata": {},
   "source": [
    "Write a Python program to calculate the sum of all even numbers between 1 and a given positive integer n"
   ]
  },
  {
   "cell_type": "code",
   "execution_count": 6,
   "metadata": {},
   "outputs": [
    {
     "name": "stdout",
     "output_type": "stream",
     "text": [
      "The sum of even numbers between 1 and 10 is: 30\n"
     ]
    }
   ],
   "source": [
    "# prompt: Write a Python program to calculate the sum of all even numbers between 1 and a given positive integer n\n",
    "\n",
    "def sum_even_numbers(n):\n",
    "    \"\"\"\n",
    "    Calculates the sum of all even numbers between 1 and a given positive integer n.\n",
    "\n",
    "    Args:\n",
    "    n: A positive integer.\n",
    "\n",
    "    Returns:\n",
    "    The sum of even numbers between 1 and n (inclusive).\n",
    "    \"\"\"\n",
    "\n",
    "    sum_of_evens = 0\n",
    "    for i in range(2, n + 1, 2):  # Iterate through even numbers only\n",
    "        sum_of_evens += i\n",
    "    return sum_of_evens\n",
    "\n",
    "# Example usage\n",
    "n = 10  # Example input\n",
    "result = sum_even_numbers(n)\n",
    "print(f\"The sum of even numbers between 1 and {n} is: {result}\")"
   ]
  },
  {
   "cell_type": "markdown",
   "metadata": {},
   "source": [
    "Write a Python program to calculate the frequency of each word in a given text. Print the\n",
    "words and their corresponding counts"
   ]
  },
  {
   "cell_type": "code",
   "execution_count": 7,
   "metadata": {},
   "outputs": [
    {
     "name": "stdout",
     "output_type": "stream",
     "text": [
      "hello: 2\n",
      "python: 1\n",
      "world: 2\n"
     ]
    }
   ],
   "source": [
    "def word_frequency(text):\n",
    "    # Remove punctuation and convert to lowercase\n",
    "    text = ''.join(char.lower() if char.isalnum() or char.isspace() else ' ' for char in text)\n",
    "    words = text.split()\n",
    "    \n",
    "    # Create a dictionary to store word counts\n",
    "    word_count = {}\n",
    "    for word in words:\n",
    "        word_count[word] = word_count.get(word, 0) + 1\n",
    "    \n",
    "    # Print each word and its frequency\n",
    "    for word, count in sorted(word_count.items()):\n",
    "        print(f\"{word}: {count}\")\n",
    "\n",
    "# Input text\n",
    "input_text = input(\"Enter the text: \")\n",
    "\n",
    "# Calculate and display word frequency\n",
    "word_frequency(input_text)\n"
   ]
  },
  {
   "cell_type": "code",
   "execution_count": 3,
   "metadata": {},
   "outputs": [
    {
     "name": "stdout",
     "output_type": "stream",
     "text": [
      "Collecting nltk\n",
      "  Using cached nltk-3.9.1-py3-none-any.whl.metadata (2.9 kB)\n",
      "Requirement already satisfied: click in c:\\users\\admin\\appdata\\local\\programs\\python\\python311\\lib\\site-packages (from nltk) (8.1.8)\n",
      "Collecting joblib (from nltk)\n",
      "  Using cached joblib-1.4.2-py3-none-any.whl.metadata (5.4 kB)\n",
      "Collecting regex>=2021.8.3 (from nltk)\n",
      "  Downloading regex-2024.11.6-cp311-cp311-win_amd64.whl.metadata (41 kB)\n",
      "     ---------------------------------------- 0.0/41.5 kB ? eta -:--:--\n",
      "     --------- ------------------------------ 10.2/41.5 kB ? eta -:--:--\n",
      "     ------------------ ------------------- 20.5/41.5 kB 330.3 kB/s eta 0:00:01\n",
      "     -------------------------------------  41.0/41.5 kB 393.8 kB/s eta 0:00:01\n",
      "     -------------------------------------- 41.5/41.5 kB 287.2 kB/s eta 0:00:00\n",
      "Requirement already satisfied: tqdm in c:\\users\\admin\\appdata\\local\\programs\\python\\python311\\lib\\site-packages (from nltk) (4.67.1)\n",
      "Requirement already satisfied: colorama in c:\\users\\admin\\appdata\\local\\programs\\python\\python311\\lib\\site-packages (from click->nltk) (0.4.6)\n",
      "Using cached nltk-3.9.1-py3-none-any.whl (1.5 MB)\n",
      "Downloading regex-2024.11.6-cp311-cp311-win_amd64.whl (274 kB)\n",
      "   ---------------------------------------- 0.0/274.1 kB ? eta -:--:--\n",
      "   ---------------------------- ----------- 194.6/274.1 kB 5.8 MB/s eta 0:00:01\n",
      "   ---------------------------------------- 274.1/274.1 kB 4.2 MB/s eta 0:00:00\n",
      "Using cached joblib-1.4.2-py3-none-any.whl (301 kB)\n",
      "Installing collected packages: regex, joblib, nltk\n",
      "Successfully installed joblib-1.4.2 nltk-3.9.1 regex-2024.11.6\n",
      "Note: you may need to restart the kernel to use updated packages.\n"
     ]
    },
    {
     "name": "stderr",
     "output_type": "stream",
     "text": [
      "\n",
      "[notice] A new release of pip is available: 24.0 -> 24.3.1\n",
      "[notice] To update, run: python.exe -m pip install --upgrade pip\n"
     ]
    }
   ],
   "source": [
    "pip install nltk"
   ]
  },
  {
   "cell_type": "markdown",
   "metadata": {},
   "source": [
    "Write a Python script that:\n",
    "1. Tokenizes a sample paragraph into words and sentences."
   ]
  },
  {
   "cell_type": "code",
   "execution_count": 5,
   "metadata": {},
   "outputs": [
    {
     "name": "stderr",
     "output_type": "stream",
     "text": [
      "[nltk_data] Downloading package punkt_tab to\n",
      "[nltk_data]     C:\\Users\\Admin\\AppData\\Roaming\\nltk_data...\n",
      "[nltk_data]   Unzipping tokenizers\\punkt_tab.zip.\n"
     ]
    },
    {
     "name": "stdout",
     "output_type": "stream",
     "text": [
      "Tokenized Sentences:\n",
      "1: \n",
      "Natural language processing (NLP) is a fascinating field of artificial intelligence.\n",
      "2: It involves the interaction between computers and humans using natural language.\n",
      "3: Tokenization is one of the most fundamental steps in NLP, as it breaks text into smaller units like words or sentences.\n",
      "\n",
      "Tokenized Words:\n",
      "['Natural', 'language', 'processing', '(', 'NLP', ')', 'is', 'a', 'fascinating', 'field', 'of', 'artificial', 'intelligence', '.', 'It', 'involves', 'the', 'interaction', 'between', 'computers', 'and', 'humans', 'using', 'natural', 'language', '.', 'Tokenization', 'is', 'one', 'of', 'the', 'most', 'fundamental', 'steps', 'in', 'NLP', ',', 'as', 'it', 'breaks', 'text', 'into', 'smaller', 'units', 'like', 'words', 'or', 'sentences', '.']\n"
     ]
    },
    {
     "name": "stderr",
     "output_type": "stream",
     "text": [
      "[nltk_data] Downloading package punkt to\n",
      "[nltk_data]     C:\\Users\\Admin\\AppData\\Roaming\\nltk_data...\n",
      "[nltk_data]   Package punkt is already up-to-date!\n"
     ]
    }
   ],
   "source": [
    "# Import necessary modules from nltk\n",
    "import nltk\n",
    "nltk.download('punkt_tab')\n",
    "from nltk.tokenize import word_tokenize, sent_tokenize\n",
    "\n",
    "# Ensure nltk downloads the required data (only needed once)\n",
    "nltk.download('punkt')\n",
    "\n",
    "# Sample paragraph\n",
    "paragraph = \"\"\"\n",
    "Natural language processing (NLP) is a fascinating field of artificial intelligence.\n",
    "It involves the interaction between computers and humans using natural language.\n",
    "Tokenization is one of the most fundamental steps in NLP, as it breaks text into smaller units like words or sentences.\n",
    "\"\"\"\n",
    "\n",
    "# Tokenize the paragraph into sentences\n",
    "sentences = sent_tokenize(paragraph)\n",
    "print(\"Tokenized Sentences:\")\n",
    "for i, sentence in enumerate(sentences, 1):\n",
    "    print(f\"{i}: {sentence}\")\n",
    "\n",
    "# Tokenize the paragraph into words\n",
    "words = word_tokenize(paragraph)\n",
    "print(\"\\nTokenized Words:\")\n",
    "print(words)"
   ]
  },
  {
   "cell_type": "markdown",
   "metadata": {},
   "source": [
    "Write a Python function to clean a given text by removing special characters and converting it to lowercase. Test it with the input: 'Hello, World! Welcome to NLP 101.'"
   ]
  },
  {
   "cell_type": "code",
   "execution_count": 6,
   "metadata": {},
   "outputs": [
    {
     "name": "stdout",
     "output_type": "stream",
     "text": [
      "Original Text: Hello, World! Welcome to NLP 101.\n",
      "Cleaned Text: hello world welcome to nlp 101\n"
     ]
    }
   ],
   "source": [
    "import re\n",
    "\n",
    "def clean_text(text):\n",
    "    \"\"\"\n",
    "    Cleans the given text by removing special characters and converting to lowercase.\n",
    "    \n",
    "    Args:\n",
    "        text (str): The input text to clean.\n",
    "    \n",
    "    Returns:\n",
    "        str: The cleaned text.\n",
    "    \"\"\"\n",
    "    # Remove special characters using regex\n",
    "    cleaned_text = re.sub(r'[^a-zA-Z0-9\\s]', '', text)\n",
    "    # Convert to lowercase\n",
    "    cleaned_text = cleaned_text.lower()\n",
    "    return cleaned_text\n",
    "\n",
    "# Test the function\n",
    "input_text = 'Hello, World! Welcome to NLP 101.'\n",
    "cleaned_output = clean_text(input_text)\n",
    "print(\"Original Text:\", input_text)\n",
    "print(\"Cleaned Text:\", cleaned_output)\n"
   ]
  },
  {
   "cell_type": "markdown",
   "metadata": {},
   "source": [
    "Write a Python function using regular expressions to extract all email addresses from a given string. Test it with the input: 'Contact us at support@example.com and sales@example.org.'"
   ]
  },
  {
   "cell_type": "code",
   "execution_count": 7,
   "metadata": {},
   "outputs": [
    {
     "name": "stdout",
     "output_type": "stream",
     "text": [
      "Extracted Emails: ['support@example.com', 'sales@example.org']\n"
     ]
    }
   ],
   "source": [
    "import re\n",
    "\n",
    "def extract_emails(text):\n",
    "    \"\"\"\n",
    "    Extracts all email addresses from the given text using regular expressions.\n",
    "    \n",
    "    Args:\n",
    "        text (str): The input string to search for email addresses.\n",
    "    \n",
    "    Returns:\n",
    "        list: A list of email addresses found in the text.\n",
    "    \"\"\"\n",
    "    # Regular expression pattern for email addresses\n",
    "    email_pattern = r'[a-zA-Z0-9._%+-]+@[a-zA-Z0-9.-]+\\.[a-zA-Z]{2,}'\n",
    "    # Find all matches of the pattern in the text\n",
    "    emails = re.findall(email_pattern, text)\n",
    "    return emails\n",
    "\n",
    "# Test the function\n",
    "input_text = 'Contact us at support@example.com and sales@example.org.'\n",
    "extracted_emails = extract_emails(input_text)\n",
    "print(\"Extracted Emails:\", extracted_emails)\n"
   ]
  },
  {
   "cell_type": "code",
   "execution_count": 9,
   "metadata": {},
   "outputs": [
    {
     "name": "stdout",
     "output_type": "stream",
     "text": [
      "Collecting beautifulsoup4\n",
      "  Downloading beautifulsoup4-4.12.3-py3-none-any.whl.metadata (3.8 kB)\n",
      "Collecting soupsieve>1.2 (from beautifulsoup4)\n",
      "  Downloading soupsieve-2.6-py3-none-any.whl.metadata (4.6 kB)\n",
      "Downloading beautifulsoup4-4.12.3-py3-none-any.whl (147 kB)\n",
      "   ---------------------------------------- 0.0/147.9 kB ? eta -:--:--\n",
      "   -- ------------------------------------- 10.2/147.9 kB ? eta -:--:--\n",
      "   -- ------------------------------------- 10.2/147.9 kB ? eta -:--:--\n",
      "   -------- ------------------------------ 30.7/147.9 kB 262.6 kB/s eta 0:00:01\n",
      "   ------------------ -------------------- 71.7/147.9 kB 491.5 kB/s eta 0:00:01\n",
      "   -------------------------------------- 147.9/147.9 kB 800.5 kB/s eta 0:00:00\n",
      "Downloading soupsieve-2.6-py3-none-any.whl (36 kB)\n",
      "Installing collected packages: soupsieve, beautifulsoup4\n",
      "Successfully installed beautifulsoup4-4.12.3 soupsieve-2.6\n",
      "Note: you may need to restart the kernel to use updated packages.\n"
     ]
    },
    {
     "name": "stderr",
     "output_type": "stream",
     "text": [
      "\n",
      "[notice] A new release of pip is available: 24.0 -> 24.3.1\n",
      "[notice] To update, run: python.exe -m pip install --upgrade pip\n"
     ]
    }
   ],
   "source": [
    "pip install beautifulsoup4"
   ]
  },
  {
   "cell_type": "markdown",
   "metadata": {},
   "source": [
    "Write a Python script to fetch and print the title of a webpage using the 'requests' and 'BeautifulSoup' libraries. Test it with the URL: 'https://example.com'."
   ]
  },
  {
   "cell_type": "code",
   "execution_count": 10,
   "metadata": {},
   "outputs": [
    {
     "name": "stdout",
     "output_type": "stream",
     "text": [
      "Webpage Title: Example Domain\n"
     ]
    }
   ],
   "source": [
    "import requests\n",
    "from bs4 import BeautifulSoup\n",
    "\n",
    "def fetch_webpage_title(url):\n",
    "    \"\"\"\n",
    "    Fetches the title of a webpage from the given URL.\n",
    "    \n",
    "    Args:\n",
    "        url (str): The URL of the webpage.\n",
    "    \n",
    "    Returns:\n",
    "        str: The title of the webpage, or an error message if not found.\n",
    "    \"\"\"\n",
    "    try:\n",
    "        # Send an HTTP GET request to the URL\n",
    "        response = requests.get(url)\n",
    "        response.raise_for_status()  # Raise an error for HTTP errors\n",
    "        \n",
    "        # Parse the webpage content with BeautifulSoup\n",
    "        soup = BeautifulSoup(response.content, 'html.parser')\n",
    "        \n",
    "        # Extract the title tag content\n",
    "        title = soup.title.string if soup.title else \"Title not found\"\n",
    "        return title\n",
    "    except requests.exceptions.RequestException as e:\n",
    "        return f\"Error fetching the webpage: {e}\"\n",
    "\n",
    "# Test the function with the given URL\n",
    "url = 'https://example.com'\n",
    "webpage_title = fetch_webpage_title(url)\n",
    "print(\"Webpage Title:\", webpage_title)\n"
   ]
  },
  {
   "cell_type": "code",
   "execution_count": 11,
   "metadata": {},
   "outputs": [
    {
     "name": "stdout",
     "output_type": "stream",
     "text": [
      "Note: you may need to restart the kernel to use updated packages.Collecting wordcloud\n",
      "  Downloading wordcloud-1.9.4-cp311-cp311-win_amd64.whl.metadata (3.5 kB)\n",
      "Collecting matplotlib\n",
      "  Downloading matplotlib-3.10.0-cp311-cp311-win_amd64.whl.metadata (11 kB)\n",
      "Requirement already satisfied: numpy>=1.6.1 in c:\\users\\admin\\appdata\\local\\programs\\python\\python311\\lib\\site-packages (from wordcloud) (2.2.2)\n",
      "Collecting pillow (from wordcloud)\n",
      "  Downloading pillow-11.1.0-cp311-cp311-win_amd64.whl.metadata (9.3 kB)\n",
      "Collecting contourpy>=1.0.1 (from matplotlib)\n",
      "  Downloading contourpy-1.3.1-cp311-cp311-win_amd64.whl.metadata (5.4 kB)\n",
      "Collecting cycler>=0.10 (from matplotlib)\n",
      "  Downloading cycler-0.12.1-py3-none-any.whl.metadata (3.8 kB)\n",
      "Collecting fonttools>=4.22.0 (from matplotlib)\n",
      "  Downloading fonttools-4.55.6-cp311-cp311-win_amd64.whl.metadata (169 kB)\n",
      "     ---------------------------------------- 0.0/169.5 kB ? eta -:--:--\n",
      "     -------------------------------- ----- 143.4/169.5 kB 4.2 MB/s eta 0:00:01\n",
      "     -------------------------------------- 169.5/169.5 kB 2.5 MB/s eta 0:00:00\n",
      "Collecting kiwisolver>=1.3.1 (from matplotlib)\n",
      "  Downloading kiwisolver-1.4.8-cp311-cp311-win_amd64.whl.metadata (6.3 kB)\n",
      "Requirement already satisfied: packaging>=20.0 in c:\\users\\admin\\appdata\\local\\programs\\python\\python311\\lib\\site-packages (from matplotlib) (24.2)\n",
      "Collecting pyparsing>=2.3.1 (from matplotlib)\n",
      "  Downloading pyparsing-3.2.1-py3-none-any.whl.metadata (5.0 kB)\n",
      "Requirement already satisfied: python-dateutil>=2.7 in c:\\users\\admin\\appdata\\roaming\\python\\python311\\site-packages (from matplotlib) (2.9.0.post0)\n",
      "Requirement already satisfied: six>=1.5 in c:\\users\\admin\\appdata\\roaming\\python\\python311\\site-packages (from python-dateutil>=2.7->matplotlib) (1.17.0)\n",
      "Downloading wordcloud-1.9.4-cp311-cp311-win_amd64.whl (299 kB)\n",
      "   ---------------------------------------- 0.0/299.9 kB ? eta -:--:--\n",
      "   --------------------------------------  297.0/299.9 kB 17.9 MB/s eta 0:00:01\n",
      "   ---------------------------------------- 299.9/299.9 kB 4.6 MB/s eta 0:00:00\n",
      "Downloading matplotlib-3.10.0-cp311-cp311-win_amd64.whl (8.0 MB)\n",
      "   ---------------------------------------- 0.0/8.0 MB ? eta -:--:--\n",
      "   -- ------------------------------------- 0.5/8.0 MB 17.2 MB/s eta 0:00:01\n",
      "   ---- ----------------------------------- 1.0/8.0 MB 15.1 MB/s eta 0:00:01\n",
      "   ------ --------------------------------- 1.4/8.0 MB 12.5 MB/s eta 0:00:01\n",
      "   --------- ------------------------------ 1.8/8.0 MB 12.8 MB/s eta 0:00:01\n",
      "   ----------- ---------------------------- 2.3/8.0 MB 13.1 MB/s eta 0:00:01\n",
      "   ------------- -------------------------- 2.7/8.0 MB 12.3 MB/s eta 0:00:01\n",
      "   --------------- ------------------------ 3.2/8.0 MB 12.6 MB/s eta 0:00:01\n",
      "   ------------------ --------------------- 3.6/8.0 MB 12.2 MB/s eta 0:00:01\n",
      "   -------------------- ------------------- 4.1/8.0 MB 12.4 MB/s eta 0:00:01\n",
      "   ---------------------- ----------------- 4.5/8.0 MB 12.5 MB/s eta 0:00:01\n",
      "   ------------------------ --------------- 5.0/8.0 MB 12.2 MB/s eta 0:00:01\n",
      "   --------------------------- ------------ 5.4/8.0 MB 12.0 MB/s eta 0:00:01\n",
      "   ----------------------------- ---------- 5.9/8.0 MB 12.1 MB/s eta 0:00:01\n",
      "   ------------------------------- -------- 6.3/8.0 MB 12.3 MB/s eta 0:00:01\n",
      "   --------------------------------- ------ 6.8/8.0 MB 12.0 MB/s eta 0:00:01\n",
      "   ------------------------------------ --- 7.2/8.0 MB 12.2 MB/s eta 0:00:01\n",
      "   -------------------------------------- - 7.7/8.0 MB 12.0 MB/s eta 0:00:01\n",
      "   ---------------------------------------  8.0/8.0 MB 11.9 MB/s eta 0:00:01\n",
      "   ---------------------------------------- 8.0/8.0 MB 11.2 MB/s eta 0:00:00\n",
      "Downloading contourpy-1.3.1-cp311-cp311-win_amd64.whl (219 kB)\n",
      "   ---------------------------------------- 0.0/219.8 kB ? eta -:--:--\n",
      "   ---------------------------------------- 219.8/219.8 kB 6.8 MB/s eta 0:00:00\n",
      "Downloading cycler-0.12.1-py3-none-any.whl (8.3 kB)\n",
      "Downloading fonttools-4.55.6-cp311-cp311-win_amd64.whl (2.2 MB)\n",
      "   ---------------------------------------- 0.0/2.2 MB ? eta -:--:--\n",
      "   -------- ------------------------------- 0.5/2.2 MB 14.2 MB/s eta 0:00:01\n",
      "   ---------------- ----------------------- 0.9/2.2 MB 14.2 MB/s eta 0:00:01\n",
      "   ----------------------- ---------------- 1.3/2.2 MB 11.9 MB/s eta 0:00:01\n",
      "   ------------------------------- -------- 1.8/2.2 MB 12.6 MB/s eta 0:00:01\n",
      "   ---------------------------------------  2.2/2.2 MB 11.8 MB/s eta 0:00:01\n",
      "   ---------------------------------------- 2.2/2.2 MB 10.2 MB/s eta 0:00:00\n",
      "Downloading kiwisolver-1.4.8-cp311-cp311-win_amd64.whl (71 kB)\n",
      "   ---------------------------------------- 0.0/72.0 kB ? eta -:--:--\n",
      "   ---------------------------------------- 72.0/72.0 kB 1.9 MB/s eta 0:00:00\n",
      "Downloading pillow-11.1.0-cp311-cp311-win_amd64.whl (2.6 MB)\n",
      "   ---------------------------------------- 0.0/2.6 MB ? eta -:--:--\n",
      "   ------- -------------------------------- 0.5/2.6 MB 14.4 MB/s eta 0:00:01\n",
      "   -------------- ------------------------- 0.9/2.6 MB 14.8 MB/s eta 0:00:01\n",
      "   -------------------- ------------------- 1.4/2.6 MB 12.4 MB/s eta 0:00:01\n",
      "   --------------------------- ------------ 1.8/2.6 MB 12.8 MB/s eta 0:00:01\n",
      "   ---------------------------------- ----- 2.3/2.6 MB 12.1 MB/s eta 0:00:01\n",
      "   ---------------------------------------  2.6/2.6 MB 12.9 MB/s eta 0:00:01\n",
      "   ---------------------------------------  2.6/2.6 MB 12.9 MB/s eta 0:00:01\n",
      "   ---------------------------------------- 2.6/2.6 MB 9.8 MB/s eta 0:00:00\n",
      "Downloading pyparsing-3.2.1-py3-none-any.whl (107 kB)\n",
      "   ---------------------------------------- 0.0/107.7 kB ? eta -:--:--\n",
      "   ---------------------------------------- 107.7/107.7 kB 3.1 MB/s eta 0:00:00\n",
      "Installing collected packages: pyparsing, pillow, kiwisolver, fonttools, cycler, contourpy, matplotlib, wordcloud\n",
      "Successfully installed contourpy-1.3.1 cycler-0.12.1 fonttools-4.55.6 kiwisolver-1.4.8 matplotlib-3.10.0 pillow-11.1.0 pyparsing-3.2.1 wordcloud-1.9.4\n",
      "\n"
     ]
    },
    {
     "name": "stderr",
     "output_type": "stream",
     "text": [
      "\n",
      "[notice] A new release of pip is available: 24.0 -> 24.3.1\n",
      "[notice] To update, run: python.exe -m pip install --upgrade pip\n"
     ]
    }
   ],
   "source": [
    "pip install wordcloud matplotlib\n"
   ]
  },
  {
   "cell_type": "markdown",
   "metadata": {},
   "source": [
    "Write a Python script to generate a WordCloud from the text: 'data science machine learning artificial intelligence'. Save the WordCloud as an image."
   ]
  },
  {
   "cell_type": "code",
   "execution_count": 12,
   "metadata": {},
   "outputs": [
    {
     "name": "stderr",
     "output_type": "stream",
     "text": [
      "Matplotlib is building the font cache; this may take a moment.\n"
     ]
    },
    {
     "data": {
      "image/png": "[encoded data removed]",
      "text/plain": [
       "<Figure size 1000x500 with 1 Axes>"
      ]
     },
     "metadata": {},
     "output_type": "display_data"
    },
    {
     "name": "stdout",
     "output_type": "stream",
     "text": [
      "WordCloud saved as wordcloud.png\n"
     ]
    }
   ],
   "source": [
    "from wordcloud import WordCloud\n",
    "import matplotlib.pyplot as plt\n",
    "\n",
    "def generate_wordcloud(text, output_filename):\n",
    "    \"\"\"\n",
    "    Generates a WordCloud from the given text and saves it as an image.\n",
    "    \n",
    "    Args:\n",
    "        text (str): The input text for the WordCloud.\n",
    "        output_filename (str): The name of the output image file.\n",
    "    \"\"\"\n",
    "    # Create a WordCloud object\n",
    "    wordcloud = WordCloud(width=800, height=400, background_color='white').generate(text)\n",
    "    \n",
    "    # Display the WordCloud\n",
    "    plt.figure(figsize=(10, 5))\n",
    "    plt.imshow(wordcloud, interpolation='bilinear')\n",
    "    plt.axis('off')\n",
    "    plt.title(\"Generated WordCloud\", fontsize=16)\n",
    "    plt.show()\n",
    "    \n",
    "    # Save the WordCloud image\n",
    "    wordcloud.to_file(output_filename)\n",
    "    print(f\"WordCloud saved as {output_filename}\")\n",
    "\n",
    "# Input text\n",
    "text = \"data science machine learning artificial intelligence\"\n",
    "\n",
    "# Generate and save the WordCloud\n",
    "output_image = \"wordcloud.png\"\n",
    "generate_wordcloud(text, output_image)\n"
   ]
  },
  {
   "cell_type": "code",
   "execution_count": 13,
   "metadata": {},
   "outputs": [
    {
     "name": "stdout",
     "output_type": "stream",
     "text": [
      "Requirement already satisfied: spacy in c:\\users\\admin\\appdata\\local\\programs\\python\\python311\\lib\\site-packages (3.8.4)\n",
      "Requirement already satisfied: spacy-legacy<3.1.0,>=3.0.11 in c:\\users\\admin\\appdata\\local\\programs\\python\\python311\\lib\\site-packages (from spacy) (3.0.12)\n",
      "Requirement already satisfied: spacy-loggers<2.0.0,>=1.0.0 in c:\\users\\admin\\appdata\\local\\programs\\python\\python311\\lib\\site-packages (from spacy) (1.0.5)\n",
      "Requirement already satisfied: murmurhash<1.1.0,>=0.28.0 in c:\\users\\admin\\appdata\\local\\programs\\python\\python311\\lib\\site-packages (from spacy) (1.0.12)\n",
      "Requirement already satisfied: cymem<2.1.0,>=2.0.2 in c:\\users\\admin\\appdata\\local\\programs\\python\\python311\\lib\\site-packages (from spacy) (2.0.11)\n",
      "Requirement already satisfied: preshed<3.1.0,>=3.0.2 in c:\\users\\admin\\appdata\\local\\programs\\python\\python311\\lib\\site-packages (from spacy) (3.0.9)\n",
      "Requirement already satisfied: thinc<8.4.0,>=8.3.4 in c:\\users\\admin\\appdata\\local\\programs\\python\\python311\\lib\\site-packages (from spacy) (8.3.4)\n",
      "Requirement already satisfied: wasabi<1.2.0,>=0.9.1 in c:\\users\\admin\\appdata\\local\\programs\\python\\python311\\lib\\site-packages (from spacy) (1.1.3)\n",
      "Requirement already satisfied: srsly<3.0.0,>=2.4.3 in c:\\users\\admin\\appdata\\local\\programs\\python\\python311\\lib\\site-packages (from spacy) (2.5.1)\n",
      "Requirement already satisfied: catalogue<2.1.0,>=2.0.6 in c:\\users\\admin\\appdata\\local\\programs\\python\\python311\\lib\\site-packages (from spacy) (2.0.10)\n",
      "Requirement already satisfied: weasel<0.5.0,>=0.1.0 in c:\\users\\admin\\appdata\\local\\programs\\python\\python311\\lib\\site-packages (from spacy) (0.4.1)\n",
      "Requirement already satisfied: typer<1.0.0,>=0.3.0 in c:\\users\\admin\\appdata\\local\\programs\\python\\python311\\lib\\site-packages (from spacy) (0.15.1)\n",
      "Requirement already satisfied: tqdm<5.0.0,>=4.38.0 in c:\\users\\admin\\appdata\\local\\programs\\python\\python311\\lib\\site-packages (from spacy) (4.67.1)\n",
      "Requirement already satisfied: numpy>=1.19.0 in c:\\users\\admin\\appdata\\local\\programs\\python\\python311\\lib\\site-packages (from spacy) (2.2.2)\n",
      "Requirement already satisfied: requests<3.0.0,>=2.13.0 in c:\\users\\admin\\appdata\\local\\programs\\python\\python311\\lib\\site-packages (from spacy) (2.32.3)\n",
      "Requirement already satisfied: pydantic!=1.8,!=1.8.1,<3.0.0,>=1.7.4 in c:\\users\\admin\\appdata\\local\\programs\\python\\python311\\lib\\site-packages (from spacy) (2.10.6)\n",
      "Requirement already satisfied: jinja2 in c:\\users\\admin\\appdata\\local\\programs\\python\\python311\\lib\\site-packages (from spacy) (3.1.5)\n",
      "Requirement already satisfied: setuptools in c:\\users\\admin\\appdata\\local\\programs\\python\\python311\\lib\\site-packages (from spacy) (65.5.0)\n",
      "Requirement already satisfied: packaging>=20.0 in c:\\users\\admin\\appdata\\local\\programs\\python\\python311\\lib\\site-packages (from spacy) (24.2)\n",
      "Requirement already satisfied: langcodes<4.0.0,>=3.2.0 in c:\\users\\admin\\appdata\\local\\programs\\python\\python311\\lib\\site-packages (from spacy) (3.5.0)\n",
      "Requirement already satisfied: language-data>=1.2 in c:\\users\\admin\\appdata\\local\\programs\\python\\python311\\lib\\site-packages (from langcodes<4.0.0,>=3.2.0->spacy) (1.3.0)\n",
      "Requirement already satisfied: annotated-types>=0.6.0 in c:\\users\\admin\\appdata\\local\\programs\\python\\python311\\lib\\site-packages (from pydantic!=1.8,!=1.8.1,<3.0.0,>=1.7.4->spacy) (0.7.0)\n",
      "Requirement already satisfied: pydantic-core==2.27.2 in c:\\users\\admin\\appdata\\local\\programs\\python\\python311\\lib\\site-packages (from pydantic!=1.8,!=1.8.1,<3.0.0,>=1.7.4->spacy) (2.27.2)\n",
      "Requirement already satisfied: typing-extensions>=4.12.2 in c:\\users\\admin\\appdata\\local\\programs\\python\\python311\\lib\\site-packages (from pydantic!=1.8,!=1.8.1,<3.0.0,>=1.7.4->spacy) (4.12.2)\n",
      "Requirement already satisfied: charset-normalizer<4,>=2 in c:\\users\\admin\\appdata\\local\\programs\\python\\python311\\lib\\site-packages (from requests<3.0.0,>=2.13.0->spacy) (3.4.1)\n",
      "Requirement already satisfied: idna<4,>=2.5 in c:\\users\\admin\\appdata\\local\\programs\\python\\python311\\lib\\site-packages (from requests<3.0.0,>=2.13.0->spacy) (3.10)\n",
      "Requirement already satisfied: urllib3<3,>=1.21.1 in c:\\users\\admin\\appdata\\local\\programs\\python\\python311\\lib\\site-packages (from requests<3.0.0,>=2.13.0->spacy) (2.3.0)\n",
      "Requirement already satisfied: certifi>=2017.4.17 in c:\\users\\admin\\appdata\\local\\programs\\python\\python311\\lib\\site-packages (from requests<3.0.0,>=2.13.0->spacy) (2024.12.14)\n",
      "Requirement already satisfied: blis<1.3.0,>=1.2.0 in c:\\users\\admin\\appdata\\local\\programs\\python\\python311\\lib\\site-packages (from thinc<8.4.0,>=8.3.4->spacy) (1.2.0)\n",
      "Requirement already satisfied: confection<1.0.0,>=0.0.1 in c:\\users\\admin\\appdata\\local\\programs\\python\\python311\\lib\\site-packages (from thinc<8.4.0,>=8.3.4->spacy) (0.1.5)\n",
      "Requirement already satisfied: colorama in c:\\users\\admin\\appdata\\local\\programs\\python\\python311\\lib\\site-packages (from tqdm<5.0.0,>=4.38.0->spacy) (0.4.6)\n",
      "Requirement already satisfied: click>=8.0.0 in c:\\users\\admin\\appdata\\local\\programs\\python\\python311\\lib\\site-packages (from typer<1.0.0,>=0.3.0->spacy) (8.1.8)\n",
      "Requirement already satisfied: shellingham>=1.3.0 in c:\\users\\admin\\appdata\\local\\programs\\python\\python311\\lib\\site-packages (from typer<1.0.0,>=0.3.0->spacy) (1.5.4)\n",
      "Requirement already satisfied: rich>=10.11.0 in c:\\users\\admin\\appdata\\local\\programs\\python\\python311\\lib\\site-packages (from typer<1.0.0,>=0.3.0->spacy) (13.9.4)\n",
      "Requirement already satisfied: cloudpathlib<1.0.0,>=0.7.0 in c:\\users\\admin\\appdata\\local\\programs\\python\\python311\\lib\\site-packages (from weasel<0.5.0,>=0.1.0->spacy) (0.20.0)\n",
      "Requirement already satisfied: smart-open<8.0.0,>=5.2.1 in c:\\users\\admin\\appdata\\local\\programs\\python\\python311\\lib\\site-packages (from weasel<0.5.0,>=0.1.0->spacy) (7.1.0)\n",
      "Requirement already satisfied: MarkupSafe>=2.0 in c:\\users\\admin\\appdata\\local\\programs\\python\\python311\\lib\\site-packages (from jinja2->spacy) (3.0.2)\n",
      "Requirement already satisfied: marisa-trie>=1.1.0 in c:\\users\\admin\\appdata\\local\\programs\\python\\python311\\lib\\site-packages (from language-data>=1.2->langcodes<4.0.0,>=3.2.0->spacy) (1.2.1)\n",
      "Requirement already satisfied: markdown-it-py>=2.2.0 in c:\\users\\admin\\appdata\\local\\programs\\python\\python311\\lib\\site-packages (from rich>=10.11.0->typer<1.0.0,>=0.3.0->spacy) (3.0.0)\n",
      "Requirement already satisfied: pygments<3.0.0,>=2.13.0 in c:\\users\\admin\\appdata\\local\\programs\\python\\python311\\lib\\site-packages (from rich>=10.11.0->typer<1.0.0,>=0.3.0->spacy) (2.19.1)\n",
      "Requirement already satisfied: wrapt in c:\\users\\admin\\appdata\\local\\programs\\python\\python311\\lib\\site-packages (from smart-open<8.0.0,>=5.2.1->weasel<0.5.0,>=0.1.0->spacy) (1.17.2)\n",
      "Requirement already satisfied: mdurl~=0.1 in c:\\users\\admin\\appdata\\local\\programs\\python\\python311\\lib\\site-packages (from markdown-it-py>=2.2.0->rich>=10.11.0->typer<1.0.0,>=0.3.0->spacy) (0.1.2)\n",
      "Note: you may need to restart the kernel to use updated packages.\n"
     ]
    },
    {
     "name": "stderr",
     "output_type": "stream",
     "text": [
      "\n",
      "[notice] A new release of pip is available: 24.0 -> 24.3.1\n",
      "[notice] To update, run: python.exe -m pip install --upgrade pip\n"
     ]
    }
   ],
   "source": [
    "pip install spacy"
   ]
  },
  {
   "cell_type": "code",
   "execution_count": 16,
   "metadata": {},
   "outputs": [
    {
     "name": "stdout",
     "output_type": "stream",
     "text": [
      "Collecting en-core-web-sm==3.8.0\n",
      "  Downloading https://github.com/explosion/spacy-models/releases/download/en_core_web_sm-3.8.0/en_core_web_sm-3.8.0-py3-none-any.whl (12.8 MB)\n",
      "     ---------------------------------------- 0.0/12.8 MB ? eta -:--:--\n",
      "     ---------------------------------------- 0.0/12.8 MB ? eta -:--:--\n",
      "     --------------------------------------- 0.0/12.8 MB 325.1 kB/s eta 0:00:40\n",
      "     --------------------------------------- 0.1/12.8 MB 544.7 kB/s eta 0:00:24\n",
      "      --------------------------------------- 0.2/12.8 MB 1.5 MB/s eta 0:00:09\n",
      "     - -------------------------------------- 0.6/12.8 MB 3.1 MB/s eta 0:00:04\n",
      "     --- ------------------------------------ 1.2/12.8 MB 4.7 MB/s eta 0:00:03\n",
      "     ----- ---------------------------------- 1.7/12.8 MB 6.0 MB/s eta 0:00:02\n",
      "     ------ --------------------------------- 2.2/12.8 MB 6.6 MB/s eta 0:00:02\n",
      "     -------- ------------------------------- 2.6/12.8 MB 7.2 MB/s eta 0:00:02\n",
      "     --------- ------------------------------ 3.0/12.8 MB 7.4 MB/s eta 0:00:02\n",
      "     ---------- ----------------------------- 3.5/12.8 MB 7.9 MB/s eta 0:00:02\n",
      "     ------------ --------------------------- 3.9/12.8 MB 8.3 MB/s eta 0:00:02\n",
      "     ------------- -------------------------- 4.3/12.8 MB 8.4 MB/s eta 0:00:02\n",
      "     -------------- ------------------------- 4.8/12.8 MB 8.7 MB/s eta 0:00:01\n",
      "     ---------------- ----------------------- 5.2/12.8 MB 9.0 MB/s eta 0:00:01\n",
      "     ---------------- ----------------------- 5.3/12.8 MB 8.8 MB/s eta 0:00:01\n",
      "     ---------------- ----------------------- 5.4/12.8 MB 8.2 MB/s eta 0:00:01\n",
      "     -------------------- ------------------- 6.5/12.8 MB 9.4 MB/s eta 0:00:01\n",
      "     --------------------- ------------------ 6.9/12.8 MB 9.4 MB/s eta 0:00:01\n",
      "     ---------------------- ----------------- 7.3/12.8 MB 9.6 MB/s eta 0:00:01\n",
      "     ------------------------ --------------- 7.7/12.8 MB 9.7 MB/s eta 0:00:01\n",
      "     ------------------------- -------------- 8.2/12.8 MB 9.9 MB/s eta 0:00:01\n",
      "     -------------------------- ------------- 8.6/12.8 MB 9.9 MB/s eta 0:00:01\n",
      "     ---------------------------- ----------- 9.1/12.8 MB 10.0 MB/s eta 0:00:01\n",
      "     ----------------------------- ---------- 9.5/12.8 MB 10.1 MB/s eta 0:00:01\n",
      "     ------------------------------ --------- 9.9/12.8 MB 10.0 MB/s eta 0:00:01\n",
      "     ------------------------------- ------- 10.3/12.8 MB 11.5 MB/s eta 0:00:01\n",
      "     -------------------------------- ------ 10.7/12.8 MB 11.9 MB/s eta 0:00:01\n",
      "     ---------------------------------- ---- 11.2/12.8 MB 11.7 MB/s eta 0:00:01\n",
      "     ----------------------------------- --- 11.6/12.8 MB 11.9 MB/s eta 0:00:01\n",
      "     ------------------------------------ -- 12.1/12.8 MB 11.9 MB/s eta 0:00:01\n",
      "     --------------------------------------  12.5/12.8 MB 11.9 MB/s eta 0:00:01\n",
      "     --------------------------------------  12.8/12.8 MB 11.9 MB/s eta 0:00:01\n",
      "     --------------------------------------  12.8/12.8 MB 11.9 MB/s eta 0:00:01\n",
      "     --------------------------------------- 12.8/12.8 MB 10.7 MB/s eta 0:00:00\n",
      "Installing collected packages: en-core-web-sm\n",
      "Successfully installed en-core-web-sm-3.8.0\n",
      "\u001b[38;5;2m✔ Download and installation successful\u001b[0m\n",
      "You can now load the package via spacy.load('en_core_web_sm')\n"
     ]
    },
    {
     "name": "stderr",
     "output_type": "stream",
     "text": [
      "\n",
      "[notice] A new release of pip is available: 24.0 -> 24.3.1\n",
      "[notice] To update, run: python.exe -m pip install --upgrade pip\n"
     ]
    }
   ],
   "source": [
    "!python -m spacy download en_core_web_sm\n"
   ]
  },
  {
   "cell_type": "code",
   "execution_count": 17,
   "metadata": {},
   "outputs": [
    {
     "data": {
      "text/plain": [
       "{'spacy_version': '3.8.4',\n",
       " 'location': 'c:\\\\Users\\\\Admin\\\\AppData\\\\Local\\\\Programs\\\\Python\\\\Python311\\\\Lib\\\\site-packages\\\\spacy',\n",
       " 'platform': 'Windows-10-10.0.22631-SP0',\n",
       " 'python_version': '3.11.9',\n",
       " 'pipelines': {}}"
      ]
     },
     "execution_count": 17,
     "metadata": {},
     "output_type": "execute_result"
    }
   ],
   "source": [
    "import spacy\n",
    "spacy.info()\n"
   ]
  },
  {
   "cell_type": "markdown",
   "metadata": {},
   "source": [
    "Write a Python script to perform part-of-speech tagging on the sentence: 'NLP is amazing and fun to learn.' using SpaCy."
   ]
  },
  {
   "cell_type": "code",
   "execution_count": 18,
   "metadata": {},
   "outputs": [
    {
     "name": "stdout",
     "output_type": "stream",
     "text": [
      "Word\tPOS Tag\n",
      "--------------------\n",
      "NLP\tPROPN\n",
      "is\tAUX\n",
      "amazing\tADJ\n",
      "and\tCCONJ\n",
      "fun\tADJ\n",
      "to\tPART\n",
      "learn\tVERB\n",
      ".\tPUNCT\n"
     ]
    }
   ],
   "source": [
    "import spacy\n",
    "\n",
    "def pos_tagging(sentence):\n",
    "    \"\"\"\n",
    "    Performs part-of-speech tagging on the given sentence using spaCy.\n",
    "    \n",
    "    Args:\n",
    "        sentence (str): The input sentence to tag.\n",
    "    \n",
    "    Returns:\n",
    "        None\n",
    "    \"\"\"\n",
    "    # Load the spaCy English model\n",
    "    nlp = spacy.load(\"en_core_web_sm\")\n",
    "    \n",
    "    # Process the sentence\n",
    "    doc = nlp(sentence)\n",
    "    \n",
    "    # Print the word and its corresponding POS tag\n",
    "    print(\"Word\\tPOS Tag\")\n",
    "    print(\"-\" * 20)\n",
    "    for token in doc:\n",
    "        print(f\"{token.text}\\t{token.pos_}\")\n",
    "\n",
    "# Input sentence\n",
    "sentence = \"NLP is amazing and fun to learn.\"\n",
    "\n",
    "# Perform POS tagging\n",
    "pos_tagging(sentence)\n"
   ]
  },
  {
   "cell_type": "markdown",
   "metadata": {},
   "source": [
    "Write a Python program to using NLTK and Spacy\n",
    "Convert text to lowercase.\n",
    "Remove stopwords using NLTK\n"
   ]
  },
  {
   "cell_type": "code",
   "execution_count": 19,
   "metadata": {},
   "outputs": [
    {
     "name": "stderr",
     "output_type": "stream",
     "text": [
      "[nltk_data] Downloading package stopwords to\n",
      "[nltk_data]     C:\\Users\\Admin\\AppData\\Roaming\\nltk_data...\n",
      "[nltk_data]   Unzipping corpora\\stopwords.zip.\n"
     ]
    },
    {
     "name": "stdout",
     "output_type": "stream",
     "text": [
      "Processed Text: natural language processing fascinating field study artificial intelligence\n"
     ]
    }
   ],
   "source": [
    "import spacy\n",
    "import nltk\n",
    "from nltk.corpus import stopwords\n",
    "\n",
    "# Download stopwords from NLTK (only need to do this once)\n",
    "nltk.download('stopwords')\n",
    "\n",
    "def process_text(text):\n",
    "    \"\"\"\n",
    "    Convert the text to lowercase and remove stopwords using NLTK.\n",
    "    \n",
    "    Args:\n",
    "        text (str): The input text to process.\n",
    "    \n",
    "    Returns:\n",
    "        str: The processed text with stopwords removed and in lowercase.\n",
    "    \"\"\"\n",
    "    # Load the SpaCy English model\n",
    "    nlp = spacy.load(\"en_core_web_sm\")\n",
    "    \n",
    "    # Convert text to lowercase\n",
    "    text = text.lower()\n",
    "    \n",
    "    # Tokenize using SpaCy\n",
    "    doc = nlp(text)\n",
    "    \n",
    "    # Get English stopwords from NLTK\n",
    "    stop_words = set(stopwords.words(\"english\"))\n",
    "    \n",
    "    # Remove stopwords using NLTK\n",
    "    filtered_words = [token.text for token in doc if token.text not in stop_words and not token.is_punct]\n",
    "    \n",
    "    # Join filtered words back into a string\n",
    "    cleaned_text = \" \".join(filtered_words)\n",
    "    \n",
    "    return cleaned_text\n",
    "\n",
    "# Example text\n",
    "text = \"Natural Language Processing is a fascinating field of study in Artificial Intelligence.\"\n",
    "\n",
    "# Process the text\n",
    "processed_text = process_text(text)\n",
    "print(\"Processed Text:\", processed_text)\n"
   ]
  }
 ],
 "metadata": {
  "kernelspec": {
   "display_name": "Python 3",
   "language": "python",
   "name": "python3"
  },
  "language_info": {
   "codemirror_mode": {
    "name": "ipython",
    "version": 3
   },
   "file_extension": ".py",
   "mimetype": "text/x-python",
   "name": "python",
   "nbconvert_exporter": "python",
   "pygments_lexer": "ipython3",
   "version": "3.11.9"
  }
 },
 "nbformat": 4,
 "nbformat_minor": 2
}
