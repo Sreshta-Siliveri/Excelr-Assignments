{
 "cells": [
  {
   "cell_type": "markdown",
   "metadata": {},
   "source": [
    "Write a program to declare variables of different data types (integer, float, string, and boolean). Print each variable and its type."
   ]
  },
  {
   "cell_type": "code",
   "execution_count": 3,
   "metadata": {},
   "outputs": [
    {
     "name": "stdout",
     "output_type": "stream",
     "text": [
      "Integer variable: 42 Type: <class 'int'>\n",
      "Float variable: 3.14 Type: <class 'float'>\n",
      "String variable: Hello, World! Type: <class 'str'>\n",
      "Boolean variable: True Type: <class 'bool'>\n"
     ]
    }
   ],
   "source": [
    "# Declaring variables of different data types\n",
    "integer_var = 42\n",
    "float_var = 3.14\n",
    "string_var = \"Hello, World!\"\n",
    "boolean_var = True\n",
    "\n",
    "# Printing each variable and its type\n",
    "print(\"Integer variable:\", integer_var, \"Type:\", type(integer_var))\n",
    "print(\"Float variable:\", float_var, \"Type:\", type(float_var))\n",
    "print(\"String variable:\", string_var, \"Type:\", type(string_var))\n",
    "print(\"Boolean variable:\", boolean_var, \"Type:\", type(boolean_var))"
   ]
  },
  {
   "cell_type": "markdown",
   "metadata": {},
   "source": [
    "Create a List, tuple and Dictionary with 5 elements in it and how to access few elements based on the index. Try  with different examples "
   ]
  },
  {
   "cell_type": "code",
   "execution_count": 4,
   "metadata": {},
   "outputs": [
    {
     "name": "stdout",
     "output_type": "stream",
     "text": [
      "List:\n",
      "First element: 10\n",
      "Third element: 30\n",
      "Last element: 50\n",
      "Second to last element: 40\n",
      "Elements from index 1 to 3: [20, 30, 40]\n",
      "Elements from index 0 to 2 : [10, 20, 30]\n",
      "Elements from index 2 to the end : [30, 40, 50]\n",
      "\n",
      "Tuple:\n",
      "First element: 1\n",
      "Third element: 3\n",
      "\n",
      "Dictionary:\n",
      "Value associated with key 'a': 1\n",
      "Value associated with key 'c': 3\n",
      "Value associated with key 'f' (or None if missing): None\n"
     ]
    }
   ],
   "source": [
    "# prompt: Create a List, tuple and Dictionary with 5 elements in it and how to access few elements based on the index. Try  with different examples \n",
    "\n",
    "# Creating a list with 5 elements\n",
    "my_list = [10, 20, 30, 40, 50]\n",
    "\n",
    "# Accessing elements by index\n",
    "print(\"List:\")\n",
    "print(\"First element:\", my_list[0])  # Accessing the first element (index 0)\n",
    "print(\"Third element:\", my_list[2])  # Accessing the third element (index 2)\n",
    "print(\"Last element:\", my_list[-1]) # Accessing the last element using negative indexing\n",
    "print(\"Second to last element:\", my_list[-2]) # Accessing the second to last element\n",
    "\n",
    "# Slicing a list\n",
    "print(\"Elements from index 1 to 3:\", my_list[1:4])  # Elements at index 1, 2, and 3\n",
    "print(\"Elements from index 0 to 2 :\", my_list[:3]) # Elements at index 0, 1 and 2\n",
    "print(\"Elements from index 2 to the end :\", my_list[2:]) # Elements at index 2, 3 and 4\n",
    "\n",
    "\n",
    "# Creating a tuple with 5 elements\n",
    "my_tuple = (1, 2, 3, 4, 5)\n",
    "\n",
    "# Accessing elements by index (same as list)\n",
    "print(\"\\nTuple:\")\n",
    "print(\"First element:\", my_tuple[0])\n",
    "print(\"Third element:\", my_tuple[2])\n",
    "\n",
    "# Creating a dictionary with 5 elements\n",
    "my_dict = {\"a\": 1, \"b\": 2, \"c\": 3, \"d\": 4, \"e\": 5}\n",
    "\n",
    "# Accessing elements by key\n",
    "print(\"\\nDictionary:\")\n",
    "print(\"Value associated with key 'a':\", my_dict[\"a\"])\n",
    "print(\"Value associated with key 'c':\", my_dict[\"c\"])\n",
    "\n",
    "# Accessing elements with the get() method (safer, handles missing keys)\n",
    "print(\"Value associated with key 'f' (or None if missing):\", my_dict.get(\"f\")) # Returns None since key 'f' is not present\n"
   ]
  },
  {
   "cell_type": "markdown",
   "metadata": {},
   "source": [
    "Write a Python program that takes a student's marks in three subjects as input.\n",
    "If the average is greater than or equal to 90, print \"Grade: A\".\n",
    "If the average is between 80 and 89, print \"Grade: B\".\n",
    "If the average is between 70 and 79, print \"Grade: C\".\n",
    "Otherwise, print \"Grade: Fail\"."
   ]
  },
  {
   "cell_type": "code",
   "execution_count": 5,
   "metadata": {},
   "outputs": [
    {
     "name": "stdout",
     "output_type": "stream",
     "text": [
      "Grade: A\n"
     ]
    }
   ],
   "source": [
    "# prompt: Write a Python program that takes a student's marks in three subjects as input.\n",
    "# If the average is greater than or equal to 90, print \"Grade: A\".\n",
    "# If the average is between 80 and 89, print \"Grade: B\".\n",
    "# If the average is between 70 and 79, print \"Grade: C\".\n",
    "# Otherwise, print \"Grade: Fail\".\n",
    "\n",
    "# Get marks for three subjects as input\n",
    "try:\n",
    "  subject1 = float(input(\"Enter marks for subject 1: \"))\n",
    "  subject2 = float(input(\"Enter marks for subject 2: \"))\n",
    "  subject3 = float(input(\"Enter marks for subject 3: \"))\n",
    "except ValueError:\n",
    "  print(\"Invalid input. Please enter numeric values for marks.\")\n",
    "else:\n",
    "  # Calculate the average\n",
    "  average_marks = (subject1 + subject2 + subject3) / 3\n",
    "\n",
    "  # Determine the grade based on the average\n",
    "  if average_marks >= 90:\n",
    "    print(\"Grade: A\")\n",
    "  elif 80 <= average_marks <= 89:\n",
    "    print(\"Grade: B\")\n",
    "  elif 70 <= average_marks <= 79:\n",
    "    print(\"Grade: C\")\n",
    "  else:\n",
    "    print(\"Grade: Fail\")"
   ]
  },
  {
   "cell_type": "markdown",
   "metadata": {},
   "source": [
    "Write a Python program to calculate the sum of all even numbers between 1 and a given positive integer n"
   ]
  },
  {
   "cell_type": "code",
   "execution_count": 6,
   "metadata": {},
   "outputs": [
    {
     "name": "stdout",
     "output_type": "stream",
     "text": [
      "The sum of even numbers between 1 and 10 is: 30\n"
     ]
    }
   ],
   "source": [
    "# prompt: Write a Python program to calculate the sum of all even numbers between 1 and a given positive integer n\n",
    "\n",
    "def sum_even_numbers(n):\n",
    "    \"\"\"\n",
    "    Calculates the sum of all even numbers between 1 and a given positive integer n.\n",
    "\n",
    "    Args:\n",
    "    n: A positive integer.\n",
    "\n",
    "    Returns:\n",
    "    The sum of even numbers between 1 and n (inclusive).\n",
    "    \"\"\"\n",
    "\n",
    "    sum_of_evens = 0\n",
    "    for i in range(2, n + 1, 2):  # Iterate through even numbers only\n",
    "        sum_of_evens += i\n",
    "    return sum_of_evens\n",
    "\n",
    "# Example usage\n",
    "n = 10  # Example input\n",
    "result = sum_even_numbers(n)\n",
    "print(f\"The sum of even numbers between 1 and {n} is: {result}\")"
   ]
  },
  {
   "cell_type": "markdown",
   "metadata": {},
   "source": [
    "Write a Python program to calculate the frequency of each word in a given text. Print the\n",
    "words and their corresponding counts"
   ]
  },
  {
   "cell_type": "code",
   "execution_count": 7,
   "metadata": {},
   "outputs": [
    {
     "name": "stdout",
     "output_type": "stream",
     "text": [
      "hello: 2\n",
      "python: 1\n",
      "world: 2\n"
     ]
    }
   ],
   "source": [
    "def word_frequency(text):\n",
    "    # Remove punctuation and convert to lowercase\n",
    "    text = ''.join(char.lower() if char.isalnum() or char.isspace() else ' ' for char in text)\n",
    "    words = text.split()\n",
    "    \n",
    "    # Create a dictionary to store word counts\n",
    "    word_count = {}\n",
    "    for word in words:\n",
    "        word_count[word] = word_count.get(word, 0) + 1\n",
    "    \n",
    "    # Print each word and its frequency\n",
    "    for word, count in sorted(word_count.items()):\n",
    "        print(f\"{word}: {count}\")\n",
    "\n",
    "# Input text\n",
    "input_text = input(\"Enter the text: \")\n",
    "\n",
    "# Calculate and display word frequency\n",
    "word_frequency(input_text)\n"
   ]
  }
 ],
 "metadata": {
  "kernelspec": {
   "display_name": "Python 3",
   "language": "python",
   "name": "python3"
  },
  "language_info": {
   "codemirror_mode": {
    "name": "ipython",
    "version": 3
   },
   "file_extension": ".py",
   "mimetype": "text/x-python",
   "name": "python",
   "nbconvert_exporter": "python",
   "pygments_lexer": "ipython3",
   "version": "3.11.9"
  }
 },
 "nbformat": 4,
 "nbformat_minor": 2
}
